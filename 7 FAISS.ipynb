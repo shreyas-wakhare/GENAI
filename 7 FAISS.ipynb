{
 "cells": [
  {
   "cell_type": "code",
   "execution_count": 4,
   "id": "a558bc22-c1be-4f39-bed6-da966ea1fa2f",
   "metadata": {},
   "outputs": [
    {
     "name": "stdout",
     "output_type": "stream",
     "text": [
      "Dataset:\n",
      " [[0.17906882 0.34704956 0.3073555  0.7762655 ]\n",
      " [0.01971019 0.1569945  0.33366224 0.70143056]\n",
      " [0.31828654 0.6576692  0.30327657 0.592905  ]\n",
      " [0.45113134 0.70163137 0.80124545 0.39243826]\n",
      " [0.48402238 0.02142082 0.5558861  0.771972  ]]\n",
      "\n",
      "Query Vector:\n",
      " [[0.97257143 0.8192585  0.3249273  0.9794201 ]]\n",
      "\n",
      "--- FAISS Search Results ---\n",
      "Top 3 Nearest Indices: [[2 3 0]]\n",
      "Corresponding Distances: [[0.60406256 0.85716265 0.89420825]]\n"
     ]
    }
   ],
   "source": [
    "# 7. FAISS Similarity Search\n",
    "# ---------------------------------\n",
    "# Example 7: FAISS Similarity Search\n",
    "# ---------------------------------\n",
    "\n",
    "import faiss\n",
    "import numpy as np\n",
    "\n",
    "# 1. Create random dataset (5 vectors of dimension 4)\n",
    "data = np.random.random((5, 4)).astype('float32')\n",
    "print(\"Dataset:\\n\", data)\n",
    "\n",
    "# 2. Initialize FAISS index (L2 distance metric)\n",
    "index = faiss.IndexFlatL2(4)\n",
    "index.add(data)   # Add dataset vectors to the index\n",
    "\n",
    "# 3. Generate a random query vector (dimension 4)\n",
    "query = np.random.random((1, 4)).astype('float32')\n",
    "print(\"\\nQuery Vector:\\n\", query)\n",
    "\n",
    "# 4. Perform similarity search (find top 3 nearest neighbors)\n",
    "distances, indices = index.search(query, k=3)\n",
    "\n",
    "# 5. Display results\n",
    "print(\"\\n--- FAISS Search Results ---\")\n",
    "print(\"Top 3 Nearest Indices:\", indices)\n",
    "print(\"Corresponding Distances:\", distances)\n"
   ]
  },
  {
   "cell_type": "code",
   "execution_count": null,
   "id": "4cfe79f9-60b4-4493-bf23-42a15ac9e657",
   "metadata": {},
   "outputs": [],
   "source": []
  }
 ],
 "metadata": {
  "kernelspec": {
   "display_name": "Python 3 (ipykernel)",
   "language": "python",
   "name": "python3"
  },
  "language_info": {
   "codemirror_mode": {
    "name": "ipython",
    "version": 3
   },
   "file_extension": ".py",
   "mimetype": "text/x-python",
   "name": "python",
   "nbconvert_exporter": "python",
   "pygments_lexer": "ipython3",
   "version": "3.11.7"
  }
 },
 "nbformat": 4,
 "nbformat_minor": 5
}
