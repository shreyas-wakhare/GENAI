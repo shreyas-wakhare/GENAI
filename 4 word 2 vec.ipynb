{
 "cells": [
  {
   "cell_type": "code",
   "execution_count": 3,
   "id": "58c67a37-5672-4208-9b90-9b479aa26e0e",
   "metadata": {},
   "outputs": [
    {
     "name": "stdout",
     "output_type": "stream",
     "text": [
      "✅ Word2Vec Model Trained Successfully!\n",
      "\n",
      "🔹 Embedding vector for 'ai':\n",
      "[-0.08167162  0.04507474 -0.04132931  0.0081504   0.08501981 -0.04470615\n",
      "  0.04534683 -0.06787038 -0.03561808  0.09396535]\n",
      "\n",
      "🔹 Vector size: 10\n"
     ]
    }
   ],
   "source": [
    "# 4. Word2Vec Embeddings\n",
    "from gensim.models import Word2Vec\n",
    "\n",
    "# Sample training sentences\n",
    "sentences = [\n",
    "    [\"artificial\", \"intelligence\", \"is\", \"cool\"],\n",
    "    [\"machine\", \"learning\", \"is\", \"fun\"],\n",
    "    [\"ai\", \"learning\", \"uses\", \"neural\", \"networks\"]\n",
    "]\n",
    "\n",
    "# Train a Word2Vec model\n",
    "model = Word2Vec(\n",
    "    sentences,\n",
    "    vector_size=10,   # size of the embedding vector\n",
    "    window=2,         # context window\n",
    "    min_count=1,      # ignore words with frequency < 1\n",
    "    sg=1,             # 1 = skip-gram, 0 = CBOW\n",
    "    workers=4,        # use 4 threads (speed up training)\n",
    "    epochs=100        # train for more passes\n",
    ")\n",
    "\n",
    "# Get the vector representation for the word \"ai\"\n",
    "ai_vector = model.wv[\"ai\"]\n",
    "\n",
    "# Display results\n",
    "print(\"✅ Word2Vec Model Trained Successfully!\\n\")\n",
    "print(\"🔹 Embedding vector for 'ai':\")\n",
    "print(ai_vector)\n",
    "print(\"\\n🔹 Vector size:\", len(ai_vector))\n"
   ]
  },
  {
   "cell_type": "code",
   "execution_count": null,
   "id": "c9ff17f3-737a-443b-a37e-88208c7abbd6",
   "metadata": {},
   "outputs": [],
   "source": []
  }
 ],
 "metadata": {
  "kernelspec": {
   "display_name": "Python 3 (ipykernel)",
   "language": "python",
   "name": "python3"
  },
  "language_info": {
   "codemirror_mode": {
    "name": "ipython",
    "version": 3
   },
   "file_extension": ".py",
   "mimetype": "text/x-python",
   "name": "python",
   "nbconvert_exporter": "python",
   "pygments_lexer": "ipython3",
   "version": "3.11.7"
  }
 },
 "nbformat": 4,
 "nbformat_minor": 5
}
