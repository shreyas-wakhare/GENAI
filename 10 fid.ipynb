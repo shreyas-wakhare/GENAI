{
 "cells": [
  {
   "cell_type": "code",
   "execution_count": 1,
   "id": "c614450e-3bd2-412c-ad20-a8025df5940a",
   "metadata": {},
   "outputs": [
    {
     "name": "stdout",
     "output_type": "stream",
     "text": [
      "--- FID Calculation Example ---\n",
      "Mean Vector 1: [0.0867146  0.18502884 0.82932985]\n",
      "Mean Vector 2: [0.31147775 0.28075904 0.29593517]\n",
      "FID Score: 0.3441926325864379\n"
     ]
    }
   ],
   "source": [
    "# 10. FID Calculation \n",
    "# ---------------------------------\n",
    "# Example 10: Calculating FID (Fréchet Inception Distance)\n",
    "# ---------------------------------\n",
    "\n",
    "import numpy as np\n",
    "from scipy.linalg import sqrtm\n",
    "\n",
    "def calculate_fid(mu1, sigma1, mu2, sigma2):\n",
    "    \"\"\"\n",
    "    Calculate the Fréchet Inception Distance between two distributions.\n",
    "    \n",
    "    Parameters:\n",
    "        mu1, mu2 : Mean vectors of the distributions\n",
    "        sigma1, sigma2 : Covariance matrices of the distributions\n",
    "    \n",
    "    Returns:\n",
    "        fid : FID score (float)\n",
    "    \"\"\"\n",
    "    diff = mu1 - mu2\n",
    "    covmean = sqrtm(sigma1.dot(sigma2))\n",
    "    fid = diff.dot(diff) + np.trace(sigma1 + sigma2 - 2 * covmean)\n",
    "    return np.real(fid)  # take real part in case of numerical imaginary part\n",
    "\n",
    "# 1. Generate example mean vectors and covariance matrices\n",
    "mu1, sigma1 = np.random.rand(3), np.eye(3)\n",
    "mu2, sigma2 = np.random.rand(3), np.eye(3)\n",
    "\n",
    "# 2. Calculate FID score\n",
    "fid_score = calculate_fid(mu1, sigma1, mu2, sigma2)\n",
    "\n",
    "# 3. Display results\n",
    "print(\"--- FID Calculation Example ---\")\n",
    "print(\"Mean Vector 1:\", mu1)\n",
    "print(\"Mean Vector 2:\", mu2)\n",
    "print(\"FID Score:\", fid_score)\n"
   ]
  },
  {
   "cell_type": "code",
   "execution_count": null,
   "id": "e1504fe0-8cc5-4243-be95-e0ea407e65fb",
   "metadata": {},
   "outputs": [],
   "source": []
  }
 ],
 "metadata": {
  "kernelspec": {
   "display_name": "Python 3 (ipykernel)",
   "language": "python",
   "name": "python3"
  },
  "language_info": {
   "codemirror_mode": {
    "name": "ipython",
    "version": 3
   },
   "file_extension": ".py",
   "mimetype": "text/x-python",
   "name": "python",
   "nbconvert_exporter": "python",
   "pygments_lexer": "ipython3",
   "version": "3.11.7"
  }
 },
 "nbformat": 4,
 "nbformat_minor": 5
}
