{
 "cells": [
  {
   "cell_type": "code",
   "execution_count": 4,
   "id": "1b180a5a-14b5-40df-9b1e-fa91aa5c2323",
   "metadata": {},
   "outputs": [
    {
     "name": "stdout",
     "output_type": "stream",
     "text": [
      "Enter two numbers for Tensor A (separated by space):\n"
     ]
    },
    {
     "name": "stdin",
     "output_type": "stream",
     "text": [
      " 5 5\n"
     ]
    },
    {
     "name": "stdout",
     "output_type": "stream",
     "text": [
      "Enter two numbers for Tensor B (separated by space):\n"
     ]
    },
    {
     "name": "stdin",
     "output_type": "stream",
     "text": [
      " 5 5\n"
     ]
    },
    {
     "name": "stdout",
     "output_type": "stream",
     "text": [
      "\n",
      "🔹 Eager Execution Output: [10. 10.]\n",
      "🔹 Graph Mode Output: [25. 25.]\n"
     ]
    }
   ],
   "source": [
    "# 3. TensorFlow Computation Graph with Eager Execution + User Input\n",
    "import tensorflow as tf\n",
    "\n",
    "# --- User Input ---\n",
    "print(\"Enter two numbers for Tensor A (separated by space):\")\n",
    "a_vals = list(map(float, input().split()))\n",
    "print(\"Enter two numbers for Tensor B (separated by space):\")\n",
    "b_vals = list(map(float, input().split()))\n",
    "\n",
    "# Define tensors from user input\n",
    "a = tf.constant(a_vals, dtype=tf.float32)\n",
    "b = tf.constant(b_vals, dtype=tf.float32)\n",
    "\n",
    "# --- Eager Execution ---\n",
    "c = a + b\n",
    "print(\"\\n🔹 Eager Execution Output:\", c.numpy())\n",
    "\n",
    "# --- Graph Mode using @tf.function ---\n",
    "@tf.function\n",
    "def multiply_tensors(x, y):\n",
    "    return x * y\n",
    "\n",
    "result = multiply_tensors(a, b)\n",
    "print(\"🔹 Graph Mode Output:\", result.numpy())\n"
   ]
  },
  {
   "cell_type": "code",
   "execution_count": null,
   "id": "f3b1d44d-abb2-4c47-a854-3def70cb9632",
   "metadata": {},
   "outputs": [],
   "source": []
  }
 ],
 "metadata": {
  "kernelspec": {
   "display_name": "Python 3 (ipykernel)",
   "language": "python",
   "name": "python3"
  },
  "language_info": {
   "codemirror_mode": {
    "name": "ipython",
    "version": 3
   },
   "file_extension": ".py",
   "mimetype": "text/x-python",
   "name": "python",
   "nbconvert_exporter": "python",
   "pygments_lexer": "ipython3",
   "version": "3.11.7"
  }
 },
 "nbformat": 4,
 "nbformat_minor": 5
}
