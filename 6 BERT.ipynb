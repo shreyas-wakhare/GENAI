{
 "cells": [
  {
   "cell_type": "code",
   "execution_count": 5,
   "id": "10293a64-5267-4c93-921e-78c7ab7a5833",
   "metadata": {},
   "outputs": [
    {
     "name": "stdout",
     "output_type": "stream",
     "text": [
      "\n",
      "--- Default Example ---\n",
      "Sentence: Generative AI creates realistic images\n",
      "BERT Output Shape: torch.Size([1, 8, 768])\n",
      "First Token Embedding (first 5 values):\n",
      "tensor([-0.2924,  0.0249, -0.1646,  0.2106, -0.0188], grad_fn=<SliceBackward0>)\n"
     ]
    },
    {
     "name": "stdin",
     "output_type": "stream",
     "text": [
      "\n",
      "Enter your own sentence:  shreyas\n"
     ]
    },
    {
     "name": "stdout",
     "output_type": "stream",
     "text": [
      "\n",
      "--- User Input Example ---\n",
      "Sentence: shreyas\n",
      "BERT Output Shape: torch.Size([1, 5, 768])\n",
      "First Token Embedding (first 5 values):\n",
      "tensor([-0.2011,  0.0093, -0.0659, -0.1705,  0.0251], grad_fn=<SliceBackward0>)\n"
     ]
    }
   ],
   "source": [
    "# 6. BERT Embeddings with Transformers\n",
    "# ---------------------------------\n",
    "# BERT Embedding Example\n",
    "# ---------------------------------\n",
    "\n",
    "from transformers import BertTokenizer, BertModel\n",
    "\n",
    "# 1. Load pretrained BERT tokenizer and model\n",
    "tokenizer = BertTokenizer.from_pretrained(\"bert-base-uncased\")\n",
    "model = BertModel.from_pretrained(\"bert-base-uncased\")\n",
    "\n",
    "# ---------------------------------\n",
    "# Default Example Sentence\n",
    "# ---------------------------------\n",
    "sentence = \"Generative AI creates realistic images\"\n",
    "inputs = tokenizer(sentence, return_tensors=\"pt\")\n",
    "outputs = model(**inputs)\n",
    "last_hidden_state = outputs.last_hidden_state\n",
    "\n",
    "print(\"\\n--- Default Example ---\")\n",
    "print(\"Sentence:\", sentence)\n",
    "print(\"BERT Output Shape:\", last_hidden_state.shape)   # (batch_size, seq_len, hidden_size)\n",
    "print(\"First Token Embedding (first 5 values):\")\n",
    "print(last_hidden_state[0][0][:5])\n",
    "\n",
    "# ---------------------------------\n",
    "# User Input Example\n",
    "# ---------------------------------\n",
    "user_sentence = input(\"\\nEnter your own sentence: \")\n",
    "user_inputs = tokenizer(user_sentence, return_tensors=\"pt\")\n",
    "user_outputs = model(**user_inputs)\n",
    "user_last_hidden_state = user_outputs.last_hidden_state\n",
    "\n",
    "print(\"\\n--- User Input Example ---\")\n",
    "print(\"Sentence:\", user_sentence)\n",
    "print(\"BERT Output Shape:\", user_last_hidden_state.shape)\n",
    "print(\"First Token Embedding (first 5 values):\")\n",
    "print(user_last_hidden_state[0][0][:5])\n"
   ]
  },
  {
   "cell_type": "code",
   "execution_count": null,
   "id": "d0f12c21-e190-4474-8921-5f68adc0be5d",
   "metadata": {},
   "outputs": [],
   "source": []
  }
 ],
 "metadata": {
  "kernelspec": {
   "display_name": "Python 3 (ipykernel)",
   "language": "python",
   "name": "python3"
  },
  "language_info": {
   "codemirror_mode": {
    "name": "ipython",
    "version": 3
   },
   "file_extension": ".py",
   "mimetype": "text/x-python",
   "name": "python",
   "nbconvert_exporter": "python",
   "pygments_lexer": "ipython3",
   "version": "3.11.7"
  }
 },
 "nbformat": 4,
 "nbformat_minor": 5
}
