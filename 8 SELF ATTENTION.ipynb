{
 "cells": [
  {
   "cell_type": "code",
   "execution_count": 2,
   "id": "e3e988af-0bbe-4079-8713-9dd5c95dd38f",
   "metadata": {},
   "outputs": [
    {
     "name": "stdout",
     "output_type": "stream",
     "text": [
      "--- Input Tensor ---\n",
      "tensor([[[0.3997, 0.5350, 0.5081, 0.8639],\n",
      "         [0.5867, 0.8990, 0.3706, 0.3396],\n",
      "         [0.9523, 0.6483, 0.6517, 0.9419]]])\n",
      "\n",
      "--- Attention Weights ---\n",
      "tensor([[[0.3209, 0.2828, 0.3963],\n",
      "         [0.2943, 0.3266, 0.3790],\n",
      "         [0.2953, 0.2714, 0.4333]]])\n",
      "\n",
      "--- Self-Attention Output ---\n",
      "tensor([[[0.6716, 0.6828, 0.5261, 0.7466],\n",
      "         [0.6702, 0.6968, 0.5176, 0.7222],\n",
      "         [0.6899, 0.6828, 0.5330, 0.7554]]])\n"
     ]
    }
   ],
   "source": [
    "# 8. Self-Attention Mechanism\n",
    "# ---------------------------------\n",
    "# Example 8: Self-Attention Mechanism\n",
    "# ---------------------------------\n",
    "\n",
    "import torch\n",
    "import torch.nn.functional as F\n",
    "\n",
    "# 1. Create a random input tensor (batch_size=1, seq_len=3, embedding_dim=4)\n",
    "x = torch.rand(1, 3, 4)\n",
    "\n",
    "# 2. Define Q, K, V as the input itself (self-attention)\n",
    "Q, K, V = x, x, x\n",
    "\n",
    "# 3. Compute attention scores\n",
    "d_k = x.size(-1)  # dimension of embedding\n",
    "scores = torch.matmul(Q, K.transpose(-2, -1)) / (d_k ** 0.5)\n",
    "\n",
    "# 4. Apply softmax to get attention weights\n",
    "weights = F.softmax(scores, dim=-1)\n",
    "\n",
    "# 5. Compute output as weighted sum of V\n",
    "output = torch.matmul(weights, V)\n",
    "\n",
    "# 6. Display results\n",
    "print(\"--- Input Tensor ---\")\n",
    "print(x)\n",
    "print(\"\\n--- Attention Weights ---\")\n",
    "print(weights)\n",
    "print(\"\\n--- Self-Attention Output ---\")\n",
    "print(output)\n"
   ]
  },
  {
   "cell_type": "code",
   "execution_count": null,
   "id": "d48ab72a-7e31-46bb-8a65-ef2d36afe1d0",
   "metadata": {},
   "outputs": [],
   "source": []
  }
 ],
 "metadata": {
  "kernelspec": {
   "display_name": "Python 3 (ipykernel)",
   "language": "python",
   "name": "python3"
  },
  "language_info": {
   "codemirror_mode": {
    "name": "ipython",
    "version": 3
   },
   "file_extension": ".py",
   "mimetype": "text/x-python",
   "name": "python",
   "nbconvert_exporter": "python",
   "pygments_lexer": "ipython3",
   "version": "3.11.7"
  }
 },
 "nbformat": 4,
 "nbformat_minor": 5
}
