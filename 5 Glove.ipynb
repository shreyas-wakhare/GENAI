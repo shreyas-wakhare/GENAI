{
 "cells": [
  {
   "cell_type": "code",
   "execution_count": 4,
   "id": "8e4adc59-4c5f-49f9-9523-5c07a928ee38",
   "metadata": {},
   "outputs": [
    {
     "name": "stdout",
     "output_type": "stream",
     "text": [
      "Vector for 'computer': [ 0.079084 -0.81504   1.7901    0.91653   0.10797  -0.55628  -0.84427\n",
      " -1.4951    0.13418   0.63627   0.35146   0.25813  -0.55029   0.51056\n",
      "  0.37409   0.12092  -1.6166    0.83653   0.14202  -0.52348   0.73453\n",
      "  0.12207  -0.49079   0.32533   0.45306  -1.585    -0.63848  -1.0053\n",
      "  0.10454  -0.42984   3.181    -0.62187   0.16819  -1.0139    0.064058\n",
      "  0.57844  -0.4556    0.73783   0.37203  -0.57722   0.66441   0.055129\n",
      "  0.037891  1.3275    0.30991   0.50697   1.2357    0.1274   -0.11434\n",
      "  0.20709 ]\n",
      "Similarity between 'computer' and 'laptop': 0.77411586\n"
     ]
    }
   ],
   "source": [
    "# 5. GloVe Pre-trained Embeddings\n",
    "import gensim.downloader as api\n",
    "\n",
    "glove_model = api.load(\"glove-wiki-gigaword-50\")\n",
    "\n",
    "print(\"Vector for 'computer':\", glove_model['computer'])\n",
    "print(\"Similarity between 'computer' and 'laptop':\", glove_model.similarity('computer', 'laptop'))\n"
   ]
  },
  {
   "cell_type": "code",
   "execution_count": null,
   "id": "1f960921-9149-483d-87e8-1ac8c4881601",
   "metadata": {},
   "outputs": [],
   "source": []
  }
 ],
 "metadata": {
  "kernelspec": {
   "display_name": "Python 3 (ipykernel)",
   "language": "python",
   "name": "python3"
  },
  "language_info": {
   "codemirror_mode": {
    "name": "ipython",
    "version": 3
   },
   "file_extension": ".py",
   "mimetype": "text/x-python",
   "name": "python",
   "nbconvert_exporter": "python",
   "pygments_lexer": "ipython3",
   "version": "3.11.7"
  }
 },
 "nbformat": 4,
 "nbformat_minor": 5
}
